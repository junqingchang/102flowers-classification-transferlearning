{
 "cells": [
  {
   "cell_type": "code",
   "execution_count": 1,
   "metadata": {},
   "outputs": [],
   "source": [
    "import torch\n",
    "import numpy as np\n",
    "import os\n",
    "import sys\n",
    "from skimage import io\n",
    "import matplotlib.pyplot as plt\n",
    "from torch.utils.data import Dataset, DataLoader\n",
    "from torchvision import transforms, utils\n",
    "import torchvision.models as models\n",
    "import torch.nn.functional as F\n",
    "import torch.nn as nn\n",
    "import torch.optim as optim"
   ]
  },
  {
   "cell_type": "code",
   "execution_count": 2,
   "metadata": {},
   "outputs": [],
   "source": [
    "TRAIN_FILE = 'trainfile.txt'\n",
    "VAL_FILE = 'valfile.txt'\n",
    "TEST_FILE = 'testfile.txt'\n",
    "\n",
    "IMG_PATH = 'flowers_data/jpg/'"
   ]
  },
  {
   "cell_type": "code",
   "execution_count": 3,
   "metadata": {},
   "outputs": [],
   "source": [
    "use_cuda = torch.cuda.is_available()\n",
    "device = torch.device(\"cuda\" if use_cuda else \"cpu\")\n",
    "log_interval = 1000\n",
    "learning_rate = 0.01\n",
    "momentum = 0.01\n",
    "epochs = 30"
   ]
  },
  {
   "cell_type": "code",
   "execution_count": 4,
   "metadata": {},
   "outputs": [],
   "source": [
    "class Flower102Dataset(Dataset):\n",
    "    def __init__(self, train_file, val_file, test_file, img_path, train_val_test='train', transform = None):\n",
    "        self.train_labels = {}\n",
    "        self.val_labels = {}\n",
    "        self.test_labels = {}\n",
    "        self.train_val_test = train_val_test\n",
    "        self.img_path = img_path\n",
    "        self.transform = transform\n",
    "        ctr = 0\n",
    "        train_f = open(train_file, 'r')\n",
    "        for line in train_f:\n",
    "            img_name, label = line.split(\" \")\n",
    "            self.train_labels[ctr] = (img_name, int(label))\n",
    "            ctr += 1\n",
    "        ctr = 0\n",
    "        val_f = open(val_file, 'r')\n",
    "        for line in val_f:\n",
    "            img_name, label = line.split(\" \")\n",
    "            self.val_labels[ctr] = (img_name, int(label))\n",
    "            ctr += 1\n",
    "        ctr = 0\n",
    "        test_f = open(test_file, 'r')\n",
    "        for line in test_f:\n",
    "            img_name, label = line.split(\" \")\n",
    "            self.test_labels[ctr] = (img_name, int(label))\n",
    "            ctr += 1\n",
    "            \n",
    "    def __len__(self):\n",
    "        if self.train_val_test == 'train':\n",
    "            return len(self.train_labels)\n",
    "        elif self.train_val_test == 'val':\n",
    "            return len(self.val_labels)\n",
    "        elif self.train_val_test == 'test':\n",
    "            return len(self.test_labels)\n",
    "        \n",
    "    def __getitem__(self, idx):\n",
    "        image = None\n",
    "        target = None\n",
    "        if self.train_val_test == 'train':\n",
    "            filename, target = self.train_labels[idx]\n",
    "            image = io.imread(self.img_path + filename)\n",
    "            if(len(image.shape) == 2):\n",
    "                image = np.stack((image,)*3, axis=-1)\n",
    "            if self.transform:\n",
    "                image = self.transform(image)\n",
    "                target = torch.Tensor([target]*5)\n",
    "                target = target.long()\n",
    "        elif self.train_val_test == 'val':\n",
    "            filename, target = self.val_labels[idx]\n",
    "            image = io.imread(self.img_path + filename)\n",
    "            if(len(image.shape) == 2):\n",
    "                image = np.stack((image,)*3, axis=-1)\n",
    "            if self.transform:\n",
    "                image = self.transform(image)\n",
    "        elif self.train_val_test == 'test':\n",
    "            filename, target = self.test_labels[idx]\n",
    "            image = io.imread(self.img_path + filename)\n",
    "            if(len(image.shape) == 2):\n",
    "                image = np.stack((image,)*3, axis=-1)\n",
    "            if self.transform:\n",
    "                image = self.transform(image)\n",
    "        return (image, target)\n",
    "            \n"
   ]
  },
  {
   "cell_type": "code",
   "execution_count": 5,
   "metadata": {},
   "outputs": [],
   "source": [
    "def train(model, device, train_loader, optimizer, epoch, log_interval):\n",
    "    model.train()\n",
    "    total_data = len(train_loader.dataset)\n",
    "    for data, target in train_loader:\n",
    "        data = data.view([-1,data.shape[-3],data.shape[-2],data.shape[-1]])  \n",
    "        data, target = data.to(device), target.to(device)\n",
    "        target = target.view([-1])\n",
    "        optimizer.zero_grad()\n",
    "        output = model(data)\n",
    "        loss = F.cross_entropy(output, target)\n",
    "        loss.backward()\n",
    "        optimizer.step()\n",
    "    print('Train Epoch: {} [{}/{} ({:.0f}%)]\\tLoss: {:.6f}'.format(\n",
    "        epoch, len(train_loader.dataset), len(train_loader.dataset),\n",
    "        100. * len(train_loader.dataset) / len(train_loader.dataset), loss.item()))\n",
    "    return loss"
   ]
  },
  {
   "cell_type": "code",
   "execution_count": 25,
   "metadata": {},
   "outputs": [],
   "source": [
    "def test(model, device, test_loader, log_freq = 100):\n",
    "    model.eval()\n",
    "    test_loss = 0\n",
    "    correct = 0\n",
    "    total_num_data = len(test_loader.dataset)\n",
    "    with torch.no_grad():\n",
    "        for data, target in test_loader:\n",
    "            data, target = data.to(device), target.to(device)\n",
    "            output = model(data)\n",
    "            test_loss += F.cross_entropy(output, target, reduction='sum').item()\n",
    "        \n",
    "            pred = output.argmax(dim=1, keepdim=True)\n",
    "        \n",
    "            correct += pred.eq(target.view_as(pred)).sum().item()\n",
    "                 \n",
    "    accuracy = 100. * correct / total_num_data\n",
    "    print('\\nPerformance: Accuracy: {}/{} ({:.2f}%), Loss: {:.6f}\\n'.format(\n",
    "        correct, total_num_data, accuracy, test_loss))\n",
    "    return test_loss, accuracy"
   ]
  },
  {
   "cell_type": "code",
   "execution_count": 7,
   "metadata": {},
   "outputs": [],
   "source": [
    "traintime_transform = transforms.Compose([\n",
    "        transforms.ToPILImage(),\n",
    "        transforms.Resize(280),\n",
    "        transforms.FiveCrop(224), \n",
    "        transforms.Lambda(lambda crops: torch.stack([transforms.ToTensor()(crop) for crop in crops])),\n",
    "        transforms.Lambda(lambda norms: torch.stack([transforms.Normalize(mean=[0.485, 0.456, 0.406],\n",
    "                                         std=[0.229, 0.224, 0.225])(norm) for norm in norms]))\n",
    "    ])"
   ]
  },
  {
   "cell_type": "code",
   "execution_count": 8,
   "metadata": {},
   "outputs": [],
   "source": [
    "centercropnorm_transform = transforms.Compose([\n",
    "        transforms.ToPILImage(),\n",
    "        transforms.Resize(224),\n",
    "        transforms.CenterCrop(224),\n",
    "        transforms.ToTensor(),\n",
    "        transforms.Normalize(mean=[0.485, 0.456, 0.406],\n",
    "                             std=[0.229, 0.224, 0.225])\n",
    "    ])"
   ]
  },
  {
   "cell_type": "code",
   "execution_count": 9,
   "metadata": {},
   "outputs": [],
   "source": [
    "flowers102train = Flower102Dataset(TRAIN_FILE, VAL_FILE, TEST_FILE, IMG_PATH, 'train', traintime_transform)\n",
    "train_loader = DataLoader(flowers102train, batch_size=4,\n",
    "                        shuffle=True, num_workers=0)"
   ]
  },
  {
   "cell_type": "code",
   "execution_count": 10,
   "metadata": {},
   "outputs": [],
   "source": [
    "flowers102val = Flower102Dataset(TRAIN_FILE, VAL_FILE, TEST_FILE, IMG_PATH, 'val', centercropnorm_transform)\n",
    "val_loader = DataLoader(flowers102val, batch_size=4,\n",
    "                        shuffle=True, num_workers=0)"
   ]
  },
  {
   "cell_type": "code",
   "execution_count": 11,
   "metadata": {},
   "outputs": [],
   "source": [
    "flowers102test = Flower102Dataset(TRAIN_FILE, VAL_FILE, TEST_FILE, IMG_PATH, 'test', centercropnorm_transform)\n",
    "test_loader = DataLoader(flowers102test, batch_size=4,\n",
    "                        shuffle=True, num_workers=0)"
   ]
  },
  {
   "cell_type": "code",
   "execution_count": null,
   "metadata": {},
   "outputs": [],
   "source": [
    "print(\"Model without loading weights\")"
   ]
  },
  {
   "cell_type": "code",
   "execution_count": 12,
   "metadata": {},
   "outputs": [],
   "source": [
    "# No weights\n",
    "resnet18 = models.resnet18(pretrained=False)\n",
    "resnet18.cuda()\n",
    "optimizer = optim.SGD(resnet18.parameters(), lr=learning_rate, momentum=momentum)"
   ]
  },
  {
   "cell_type": "code",
   "execution_count": 13,
   "metadata": {},
   "outputs": [
    {
     "name": "stdout",
     "output_type": "stream",
     "text": [
      "Train Epoch: 1 [5687/5687 (100%)]\tLoss: 3.730564\n",
      "\n",
      "Performance: Accuracy: 146/1224 (11.93%), Loss: 5102.593184\n",
      "\n",
      "Train Epoch: 2 [5687/5687 (100%)]\tLoss: 3.235626\n",
      "\n",
      "Performance: Accuracy: 318/1224 (25.98%), Loss: 4127.380423\n",
      "\n",
      "Train Epoch: 3 [5687/5687 (100%)]\tLoss: 3.758488\n",
      "\n",
      "Performance: Accuracy: 306/1224 (25.00%), Loss: 3935.562722\n",
      "\n",
      "Train Epoch: 4 [5687/5687 (100%)]\tLoss: 3.308613\n",
      "\n",
      "Performance: Accuracy: 352/1224 (28.76%), Loss: 3839.329845\n",
      "\n",
      "Train Epoch: 5 [5687/5687 (100%)]\tLoss: 3.313563\n",
      "\n",
      "Performance: Accuracy: 479/1224 (39.13%), Loss: 2971.998009\n",
      "\n",
      "Train Epoch: 6 [5687/5687 (100%)]\tLoss: 2.383286\n",
      "\n",
      "Performance: Accuracy: 509/1224 (41.58%), Loss: 2925.073413\n",
      "\n",
      "Train Epoch: 7 [5687/5687 (100%)]\tLoss: 0.693751\n",
      "\n",
      "Performance: Accuracy: 599/1224 (48.94%), Loss: 2338.176424\n",
      "\n",
      "Train Epoch: 8 [5687/5687 (100%)]\tLoss: 0.676356\n",
      "\n",
      "Performance: Accuracy: 615/1224 (50.25%), Loss: 2366.503221\n",
      "\n",
      "Train Epoch: 9 [5687/5687 (100%)]\tLoss: 2.899636\n",
      "\n",
      "Performance: Accuracy: 596/1224 (48.69%), Loss: 2592.403928\n",
      "\n",
      "Train Epoch: 10 [5687/5687 (100%)]\tLoss: 1.086761\n",
      "\n",
      "Performance: Accuracy: 702/1224 (57.35%), Loss: 1975.364868\n",
      "\n",
      "Train Epoch: 11 [5687/5687 (100%)]\tLoss: 1.677215\n",
      "\n",
      "Performance: Accuracy: 749/1224 (61.19%), Loss: 1703.424104\n",
      "\n",
      "Train Epoch: 12 [5687/5687 (100%)]\tLoss: 1.218546\n",
      "\n",
      "Performance: Accuracy: 792/1224 (64.71%), Loss: 1683.312098\n",
      "\n",
      "Train Epoch: 13 [5687/5687 (100%)]\tLoss: 1.065463\n",
      "\n",
      "Performance: Accuracy: 828/1224 (67.65%), Loss: 1551.548592\n",
      "\n",
      "Train Epoch: 14 [5687/5687 (100%)]\tLoss: 2.261955\n",
      "\n",
      "Performance: Accuracy: 815/1224 (66.58%), Loss: 1549.174191\n",
      "\n",
      "Train Epoch: 15 [5687/5687 (100%)]\tLoss: 1.210814\n",
      "\n",
      "Performance: Accuracy: 821/1224 (67.08%), Loss: 1424.022940\n",
      "\n",
      "Train Epoch: 16 [5687/5687 (100%)]\tLoss: 4.670249\n",
      "\n",
      "Performance: Accuracy: 869/1224 (71.00%), Loss: 1372.747460\n",
      "\n",
      "Train Epoch: 17 [5687/5687 (100%)]\tLoss: 0.606365\n",
      "\n",
      "Performance: Accuracy: 891/1224 (72.79%), Loss: 1192.025971\n",
      "\n",
      "Train Epoch: 18 [5687/5687 (100%)]\tLoss: 0.366165\n",
      "\n",
      "Performance: Accuracy: 906/1224 (74.02%), Loss: 1110.031732\n",
      "\n",
      "Train Epoch: 19 [5687/5687 (100%)]\tLoss: 1.075113\n",
      "\n",
      "Performance: Accuracy: 890/1224 (72.71%), Loss: 1305.649274\n",
      "\n",
      "Train Epoch: 20 [5687/5687 (100%)]\tLoss: 0.594848\n",
      "\n",
      "Performance: Accuracy: 871/1224 (71.16%), Loss: 1338.526397\n",
      "\n",
      "Train Epoch: 21 [5687/5687 (100%)]\tLoss: 0.172640\n",
      "\n",
      "Performance: Accuracy: 969/1224 (79.17%), Loss: 905.986031\n",
      "\n",
      "Train Epoch: 22 [5687/5687 (100%)]\tLoss: 0.731338\n",
      "\n",
      "Performance: Accuracy: 963/1224 (78.68%), Loss: 975.122388\n",
      "\n",
      "Train Epoch: 23 [5687/5687 (100%)]\tLoss: 0.185638\n",
      "\n",
      "Performance: Accuracy: 938/1224 (76.63%), Loss: 1071.377490\n",
      "\n",
      "Train Epoch: 24 [5687/5687 (100%)]\tLoss: 0.732497\n",
      "\n",
      "Performance: Accuracy: 980/1224 (80.07%), Loss: 884.326441\n",
      "\n",
      "Train Epoch: 25 [5687/5687 (100%)]\tLoss: 0.062119\n",
      "\n",
      "Performance: Accuracy: 1019/1224 (83.25%), Loss: 748.992308\n",
      "\n",
      "Train Epoch: 26 [5687/5687 (100%)]\tLoss: 0.146649\n",
      "\n",
      "Performance: Accuracy: 1034/1224 (84.48%), Loss: 716.858686\n",
      "\n",
      "Train Epoch: 27 [5687/5687 (100%)]\tLoss: 0.082206\n",
      "\n",
      "Performance: Accuracy: 1011/1224 (82.60%), Loss: 856.458770\n",
      "\n",
      "Train Epoch: 28 [5687/5687 (100%)]\tLoss: 1.326663\n",
      "\n",
      "Performance: Accuracy: 1033/1224 (84.40%), Loss: 669.895121\n",
      "\n",
      "Train Epoch: 29 [5687/5687 (100%)]\tLoss: 1.197884\n",
      "\n",
      "Performance: Accuracy: 1024/1224 (83.66%), Loss: 781.961175\n",
      "\n",
      "Train Epoch: 30 [5687/5687 (100%)]\tLoss: 0.049238\n",
      "\n",
      "Performance: Accuracy: 1034/1224 (84.48%), Loss: 760.473899\n",
      "\n",
      "Best Loss: 669.8951206207275\n"
     ]
    }
   ],
   "source": [
    "# No weights\n",
    "x_epoch = []\n",
    "train_loss_ot = []\n",
    "val_loss_ot = []\n",
    "val_acc_ot = []\n",
    "best_loss = sys.maxsize\n",
    "for epoch in range(1, epochs + 1):\n",
    "    # training phase\n",
    "    train_loss = train(resnet18, device, train_loader, optimizer, epoch, log_interval)\n",
    "    x_epoch.append(epoch)\n",
    "    train_loss_ot.append(train_loss)\n",
    "    \n",
    "    # validation phase\n",
    "    current_loss, accuracy = test(resnet18, device, val_loader, log_interval)\n",
    "    val_loss_ot.append(current_loss)\n",
    "    val_acc_ot.append(accuracy)\n",
    "    if current_loss <= best_loss:\n",
    "        torch.save(resnet18.state_dict(),\"flower102noweights.pt\")\n",
    "        best_loss = current_loss\n",
    "        \n",
    "        \n",
    "print(\"Best Loss: {}\".format(best_loss))"
   ]
  },
  {
   "cell_type": "code",
   "execution_count": 15,
   "metadata": {},
   "outputs": [
    {
     "name": "stdout",
     "output_type": "stream",
     "text": [
      "\n",
      "Performance: Accuracy: 1054/1278 (82.47%), Loss: 953.753869\n",
      "\n"
     ]
    }
   ],
   "source": [
    "resnet18best = models.resnet18(pretrained=False)\n",
    "resnet18best.cuda()\n",
    "resnet18best.load_state_dict(torch.load(\"flower102noweights.pt\", map_location=device))\n",
    "loss = test(resnet18, device, test_loader, log_interval)"
   ]
  },
  {
   "cell_type": "code",
   "execution_count": 16,
   "metadata": {},
   "outputs": [
    {
     "data": {
      "image/png": "[encoded data removed]",
      "text/plain": [
       "<Figure size 432x288 with 1 Axes>"
      ]
     },
     "metadata": {
      "needs_background": "light"
     },
     "output_type": "display_data"
    }
   ],
   "source": [
    "plt.title(\"Train loss over epoch\")\n",
    "plt.xlabel('epoch')\n",
    "plt.ylabel('loss')\n",
    "plt.plot(x_epoch, train_loss_ot)\n",
    "plt.show()"
   ]
  },
  {
   "cell_type": "code",
   "execution_count": 17,
   "metadata": {},
   "outputs": [
    {
     "data": {
      "image/png": "[encoded data removed]",
      "text/plain": [
       "<Figure size 432x288 with 1 Axes>"
      ]
     },
     "metadata": {
      "needs_background": "light"
     },
     "output_type": "display_data"
    }
   ],
   "source": [
    "plt.title(\"Validation loss over epoch\")\n",
    "plt.xlabel('epoch')\n",
    "plt.ylabel('loss')\n",
    "plt.plot(x_epoch, val_loss_ot)\n",
    "plt.show()"
   ]
  },
  {
   "cell_type": "code",
   "execution_count": 24,
   "metadata": {},
   "outputs": [
    {
     "data": {
      "image/png": "[encoded data removed]",
      "text/plain": [
       "<Figure size 432x288 with 1 Axes>"
      ]
     },
     "metadata": {
      "needs_background": "light"
     },
     "output_type": "display_data"
    }
   ],
   "source": [
    "plt.title(\"Validation Accuracy over epoch\")\n",
    "plt.xlabel('epoch')\n",
    "plt.ylabel('accuracy')\n",
    "plt.plot(x_epoch, val_acc_ot)\n",
    "plt.show()"
   ]
  },
  {
   "cell_type": "code",
   "execution_count": null,
   "metadata": {},
   "outputs": [],
   "source": [
    "print(\"Model without loading weights and training all levels\")"
   ]
  },
  {
   "cell_type": "code",
   "execution_count": 28,
   "metadata": {},
   "outputs": [],
   "source": [
    "# Full weights\n",
    "resnet18loaded = models.resnet18(pretrained=True)\n",
    "resnet18loaded.cuda()\n",
    "optimizer = optim.SGD(resnet18loaded.parameters(), lr=learning_rate, momentum=momentum)"
   ]
  },
  {
   "cell_type": "code",
   "execution_count": 29,
   "metadata": {},
   "outputs": [
    {
     "name": "stdout",
     "output_type": "stream",
     "text": [
      "Train Epoch: 1 [5687/5687 (100%)]\tLoss: 3.106496\n",
      "\n",
      "Performance: Accuracy: 1000/1224 (81.70%), Loss: 802.353889\n",
      "\n",
      "Train Epoch: 2 [5687/5687 (100%)]\tLoss: 0.223955\n",
      "\n",
      "Performance: Accuracy: 1146/1224 (93.63%), Loss: 294.661448\n",
      "\n",
      "Train Epoch: 3 [5687/5687 (100%)]\tLoss: 0.250084\n",
      "\n",
      "Performance: Accuracy: 1161/1224 (94.85%), Loss: 200.938255\n",
      "\n",
      "Train Epoch: 4 [5687/5687 (100%)]\tLoss: 0.101890\n",
      "\n",
      "Performance: Accuracy: 1175/1224 (96.00%), Loss: 179.085724\n",
      "\n",
      "Train Epoch: 5 [5687/5687 (100%)]\tLoss: 0.351579\n",
      "\n",
      "Performance: Accuracy: 1172/1224 (95.75%), Loss: 181.348999\n",
      "\n",
      "Train Epoch: 6 [5687/5687 (100%)]\tLoss: 0.161734\n",
      "\n",
      "Performance: Accuracy: 1173/1224 (95.83%), Loss: 161.515744\n",
      "\n",
      "Train Epoch: 7 [5687/5687 (100%)]\tLoss: 0.022329\n",
      "\n",
      "Performance: Accuracy: 1184/1224 (96.73%), Loss: 138.663336\n",
      "\n",
      "Train Epoch: 8 [5687/5687 (100%)]\tLoss: 0.663267\n",
      "\n",
      "Performance: Accuracy: 1169/1224 (95.51%), Loss: 201.071285\n",
      "\n",
      "Train Epoch: 9 [5687/5687 (100%)]\tLoss: 0.091364\n",
      "\n",
      "Performance: Accuracy: 1175/1224 (96.00%), Loss: 158.959114\n",
      "\n",
      "Train Epoch: 10 [5687/5687 (100%)]\tLoss: 0.026223\n",
      "\n",
      "Performance: Accuracy: 1182/1224 (96.57%), Loss: 153.512488\n",
      "\n",
      "Train Epoch: 11 [5687/5687 (100%)]\tLoss: 0.045973\n",
      "\n",
      "Performance: Accuracy: 1178/1224 (96.24%), Loss: 141.010879\n",
      "\n",
      "Train Epoch: 12 [5687/5687 (100%)]\tLoss: 0.276905\n",
      "\n",
      "Performance: Accuracy: 1186/1224 (96.90%), Loss: 135.204831\n",
      "\n",
      "Train Epoch: 13 [5687/5687 (100%)]\tLoss: 0.039778\n",
      "\n",
      "Performance: Accuracy: 1186/1224 (96.90%), Loss: 147.230847\n",
      "\n",
      "Train Epoch: 14 [5687/5687 (100%)]\tLoss: 0.016003\n",
      "\n",
      "Performance: Accuracy: 1192/1224 (97.39%), Loss: 118.097553\n",
      "\n",
      "Train Epoch: 15 [5687/5687 (100%)]\tLoss: 0.032923\n",
      "\n",
      "Performance: Accuracy: 1188/1224 (97.06%), Loss: 126.188514\n",
      "\n",
      "Train Epoch: 16 [5687/5687 (100%)]\tLoss: 0.092705\n",
      "\n",
      "Performance: Accuracy: 1194/1224 (97.55%), Loss: 112.207725\n",
      "\n",
      "Train Epoch: 17 [5687/5687 (100%)]\tLoss: 0.017245\n",
      "\n",
      "Performance: Accuracy: 1196/1224 (97.71%), Loss: 113.200942\n",
      "\n",
      "Train Epoch: 18 [5687/5687 (100%)]\tLoss: 0.007319\n",
      "\n",
      "Performance: Accuracy: 1194/1224 (97.55%), Loss: 113.236239\n",
      "\n",
      "Train Epoch: 19 [5687/5687 (100%)]\tLoss: 0.039126\n",
      "\n",
      "Performance: Accuracy: 1195/1224 (97.63%), Loss: 101.061129\n",
      "\n",
      "Train Epoch: 20 [5687/5687 (100%)]\tLoss: 0.016197\n",
      "\n",
      "Performance: Accuracy: 1186/1224 (96.90%), Loss: 123.571841\n",
      "\n",
      "Train Epoch: 21 [5687/5687 (100%)]\tLoss: 0.027299\n",
      "\n",
      "Performance: Accuracy: 1186/1224 (96.90%), Loss: 115.162743\n",
      "\n",
      "Train Epoch: 22 [5687/5687 (100%)]\tLoss: 0.049501\n",
      "\n",
      "Performance: Accuracy: 1189/1224 (97.14%), Loss: 140.470127\n",
      "\n",
      "Train Epoch: 23 [5687/5687 (100%)]\tLoss: 0.005538\n",
      "\n",
      "Performance: Accuracy: 1190/1224 (97.22%), Loss: 119.007221\n",
      "\n",
      "Train Epoch: 24 [5687/5687 (100%)]\tLoss: 0.026410\n",
      "\n",
      "Performance: Accuracy: 1176/1224 (96.08%), Loss: 148.053740\n",
      "\n",
      "Train Epoch: 25 [5687/5687 (100%)]\tLoss: 0.045132\n",
      "\n",
      "Performance: Accuracy: 1189/1224 (97.14%), Loss: 117.119856\n",
      "\n",
      "Train Epoch: 26 [5687/5687 (100%)]\tLoss: 0.007922\n",
      "\n",
      "Performance: Accuracy: 1191/1224 (97.30%), Loss: 117.270632\n",
      "\n",
      "Train Epoch: 27 [5687/5687 (100%)]\tLoss: 0.442047\n",
      "\n",
      "Performance: Accuracy: 1193/1224 (97.47%), Loss: 100.711459\n",
      "\n",
      "Train Epoch: 28 [5687/5687 (100%)]\tLoss: 0.005490\n",
      "\n",
      "Performance: Accuracy: 1196/1224 (97.71%), Loss: 100.351534\n",
      "\n",
      "Train Epoch: 29 [5687/5687 (100%)]\tLoss: 0.036854\n",
      "\n",
      "Performance: Accuracy: 1180/1224 (96.41%), Loss: 145.959862\n",
      "\n",
      "Train Epoch: 30 [5687/5687 (100%)]\tLoss: 0.004236\n",
      "\n",
      "Performance: Accuracy: 1189/1224 (97.14%), Loss: 128.548362\n",
      "\n",
      "Best Loss: 100.35153388977051\n"
     ]
    }
   ],
   "source": [
    "# Full weights\n",
    "x_epoch = []\n",
    "train_loss_ot = []\n",
    "val_loss_ot = []\n",
    "val_acc_ot = []\n",
    "best_loss = sys.maxsize\n",
    "for epoch in range(1, epochs + 1):\n",
    "    # training phase\n",
    "    train_loss = train(resnet18loaded, device, train_loader, optimizer, epoch, log_interval)\n",
    "    x_epoch.append(epoch)\n",
    "    train_loss_ot.append(train_loss)\n",
    "    \n",
    "    # validation phase\n",
    "    current_loss, accuracy = test(resnet18loaded, device, val_loader, log_interval)\n",
    "    val_loss_ot.append(current_loss)\n",
    "    val_acc_ot.append(accuracy)\n",
    "    if current_loss <= best_loss:\n",
    "        torch.save(resnet18loaded.state_dict(),\"flower102fullweights.pt\")\n",
    "        best_loss = current_loss\n",
    "        \n",
    "        \n",
    "print(\"Best Loss: {}\".format(best_loss))"
   ]
  },
  {
   "cell_type": "code",
   "execution_count": 30,
   "metadata": {},
   "outputs": [
    {
     "name": "stdout",
     "output_type": "stream",
     "text": [
      "\n",
      "Performance: Accuracy: 1054/1278 (82.47%), Loss: 953.753871\n",
      "\n"
     ]
    }
   ],
   "source": [
    "resnet18best = models.resnet18(pretrained=False)\n",
    "resnet18best.cuda()\n",
    "resnet18best.load_state_dict(torch.load(\"flower102fullweights.pt\", map_location=device))\n",
    "loss = test(resnet18, device, test_loader, log_interval)"
   ]
  },
  {
   "cell_type": "code",
   "execution_count": 31,
   "metadata": {},
   "outputs": [
    {
     "data": {
      "image/png": "[encoded data removed]",
      "text/plain": [
       "<Figure size 432x288 with 1 Axes>"
      ]
     },
     "metadata": {
      "needs_background": "light"
     },
     "output_type": "display_data"
    }
   ],
   "source": [
    "plt.title(\"Train loss over epoch\")\n",
    "plt.xlabel('epoch')\n",
    "plt.ylabel('loss')\n",
    "plt.plot(x_epoch, train_loss_ot)\n",
    "plt.show()"
   ]
  },
  {
   "cell_type": "code",
   "execution_count": 32,
   "metadata": {},
   "outputs": [
    {
     "data": {
      "image/png": "[encoded data removed]",
      "text/plain": [
       "<Figure size 432x288 with 1 Axes>"
      ]
     },
     "metadata": {
      "needs_background": "light"
     },
     "output_type": "display_data"
    }
   ],
   "source": [
    "plt.title(\"Validation loss over epoch\")\n",
    "plt.xlabel('epoch')\n",
    "plt.ylabel('loss')\n",
    "plt.plot(x_epoch, val_loss_ot)\n",
    "plt.show()"
   ]
  },
  {
   "cell_type": "code",
   "execution_count": 33,
   "metadata": {},
   "outputs": [
    {
     "data": {
      "image/png": "[encoded data removed]",
      "text/plain": [
       "<Figure size 432x288 with 1 Axes>"
      ]
     },
     "metadata": {
      "needs_background": "light"
     },
     "output_type": "display_data"
    }
   ],
   "source": [
    "plt.title(\"Validation Accuracy over epoch\")\n",
    "plt.xlabel('epoch')\n",
    "plt.ylabel('accuracy')\n",
    "plt.plot(x_epoch, val_acc_ot)\n",
    "plt.show()"
   ]
  },
  {
   "cell_type": "code",
   "execution_count": null,
   "metadata": {},
   "outputs": [],
   "source": [
    "print(\"Model without loading weights and training on last 2 layers\")"
   ]
  },
  {
   "cell_type": "code",
   "execution_count": 35,
   "metadata": {},
   "outputs": [],
   "source": [
    "# Full weights with freeze\n",
    "resnet18freeze = models.resnet18(pretrained=True)\n",
    "for p in resnet18freeze.conv1.parameters():\n",
    "    p.requires_grad_(False)\n",
    "for p in resnet18freeze.layer1.parameters(): #freeze layer 1\n",
    "    p.requires_grad_(False)\n",
    "for p in resnet18freeze.layer2.parameters(): # freeze Layer 2\n",
    "    p.requires_grad_(False)\n",
    "for p in resnet18freeze.layer3.parameters():\n",
    "    p.requires_grad_(False)\n",
    "resnet18freeze.cuda()\n",
    "optimizer = optim.SGD(resnet18freeze.parameters(), lr=learning_rate, momentum=momentum)"
   ]
  },
  {
   "cell_type": "code",
   "execution_count": 36,
   "metadata": {},
   "outputs": [
    {
     "name": "stdout",
     "output_type": "stream",
     "text": [
      "Train Epoch: 1 [5687/5687 (100%)]\tLoss: 1.511928\n",
      "\n",
      "Performance: Accuracy: 1115/1224 (91.09%), Loss: 408.402533\n",
      "\n",
      "Train Epoch: 2 [5687/5687 (100%)]\tLoss: 0.977143\n",
      "\n",
      "Performance: Accuracy: 1148/1224 (93.79%), Loss: 262.865331\n",
      "\n",
      "Train Epoch: 3 [5687/5687 (100%)]\tLoss: 2.399775\n",
      "\n",
      "Performance: Accuracy: 1169/1224 (95.51%), Loss: 203.600915\n",
      "\n",
      "Train Epoch: 4 [5687/5687 (100%)]\tLoss: 0.191064\n",
      "\n",
      "Performance: Accuracy: 1171/1224 (95.67%), Loss: 180.551285\n",
      "\n",
      "Train Epoch: 5 [5687/5687 (100%)]\tLoss: 0.226763\n",
      "\n",
      "Performance: Accuracy: 1180/1224 (96.41%), Loss: 157.041892\n",
      "\n",
      "Train Epoch: 6 [5687/5687 (100%)]\tLoss: 0.066794\n",
      "\n",
      "Performance: Accuracy: 1176/1224 (96.08%), Loss: 153.783568\n",
      "\n",
      "Train Epoch: 7 [5687/5687 (100%)]\tLoss: 0.040765\n",
      "\n",
      "Performance: Accuracy: 1177/1224 (96.16%), Loss: 161.649790\n",
      "\n",
      "Train Epoch: 8 [5687/5687 (100%)]\tLoss: 0.067065\n",
      "\n",
      "Performance: Accuracy: 1182/1224 (96.57%), Loss: 159.336577\n",
      "\n",
      "Train Epoch: 9 [5687/5687 (100%)]\tLoss: 0.113443\n",
      "\n",
      "Performance: Accuracy: 1178/1224 (96.24%), Loss: 165.357356\n",
      "\n",
      "Train Epoch: 10 [5687/5687 (100%)]\tLoss: 0.108963\n",
      "\n",
      "Performance: Accuracy: 1183/1224 (96.65%), Loss: 141.875809\n",
      "\n",
      "Train Epoch: 11 [5687/5687 (100%)]\tLoss: 0.095084\n",
      "\n",
      "Performance: Accuracy: 1194/1224 (97.55%), Loss: 129.337762\n",
      "\n",
      "Train Epoch: 12 [5687/5687 (100%)]\tLoss: 0.011903\n",
      "\n",
      "Performance: Accuracy: 1189/1224 (97.14%), Loss: 143.623248\n",
      "\n",
      "Train Epoch: 13 [5687/5687 (100%)]\tLoss: 0.068227\n",
      "\n",
      "Performance: Accuracy: 1187/1224 (96.98%), Loss: 137.740937\n",
      "\n",
      "Train Epoch: 14 [5687/5687 (100%)]\tLoss: 0.057133\n",
      "\n",
      "Performance: Accuracy: 1181/1224 (96.49%), Loss: 151.483899\n",
      "\n",
      "Train Epoch: 15 [5687/5687 (100%)]\tLoss: 0.045904\n",
      "\n",
      "Performance: Accuracy: 1184/1224 (96.73%), Loss: 135.007889\n",
      "\n",
      "Train Epoch: 16 [5687/5687 (100%)]\tLoss: 0.011602\n",
      "\n",
      "Performance: Accuracy: 1189/1224 (97.14%), Loss: 128.790082\n",
      "\n",
      "Train Epoch: 17 [5687/5687 (100%)]\tLoss: 0.004889\n",
      "\n",
      "Performance: Accuracy: 1190/1224 (97.22%), Loss: 131.847301\n",
      "\n",
      "Train Epoch: 18 [5687/5687 (100%)]\tLoss: 0.038836\n",
      "\n",
      "Performance: Accuracy: 1188/1224 (97.06%), Loss: 137.405978\n",
      "\n",
      "Train Epoch: 19 [5687/5687 (100%)]\tLoss: 0.010083\n",
      "\n",
      "Performance: Accuracy: 1185/1224 (96.81%), Loss: 136.177154\n",
      "\n",
      "Train Epoch: 20 [5687/5687 (100%)]\tLoss: 0.163681\n",
      "\n",
      "Performance: Accuracy: 1180/1224 (96.41%), Loss: 142.817817\n",
      "\n",
      "Train Epoch: 21 [5687/5687 (100%)]\tLoss: 0.082637\n",
      "\n",
      "Performance: Accuracy: 1185/1224 (96.81%), Loss: 137.978047\n",
      "\n",
      "Train Epoch: 22 [5687/5687 (100%)]\tLoss: 0.074211\n",
      "\n",
      "Performance: Accuracy: 1189/1224 (97.14%), Loss: 134.354152\n",
      "\n",
      "Train Epoch: 23 [5687/5687 (100%)]\tLoss: 2.240475\n",
      "\n",
      "Performance: Accuracy: 1185/1224 (96.81%), Loss: 138.018162\n",
      "\n",
      "Train Epoch: 24 [5687/5687 (100%)]\tLoss: 0.135453\n",
      "\n",
      "Performance: Accuracy: 1191/1224 (97.30%), Loss: 139.277414\n",
      "\n",
      "Train Epoch: 25 [5687/5687 (100%)]\tLoss: 0.003343\n",
      "\n",
      "Performance: Accuracy: 1188/1224 (97.06%), Loss: 142.343661\n",
      "\n",
      "Train Epoch: 26 [5687/5687 (100%)]\tLoss: 0.018653\n",
      "\n",
      "Performance: Accuracy: 1185/1224 (96.81%), Loss: 147.590260\n",
      "\n",
      "Train Epoch: 27 [5687/5687 (100%)]\tLoss: 0.007732\n",
      "\n",
      "Performance: Accuracy: 1182/1224 (96.57%), Loss: 150.978821\n",
      "\n",
      "Train Epoch: 28 [5687/5687 (100%)]\tLoss: 0.080040\n",
      "\n",
      "Performance: Accuracy: 1193/1224 (97.47%), Loss: 120.308043\n",
      "\n",
      "Train Epoch: 29 [5687/5687 (100%)]\tLoss: 0.031040\n",
      "\n",
      "Performance: Accuracy: 1189/1224 (97.14%), Loss: 134.530454\n",
      "\n",
      "Train Epoch: 30 [5687/5687 (100%)]\tLoss: 0.150025\n",
      "\n",
      "Performance: Accuracy: 1191/1224 (97.30%), Loss: 130.355733\n",
      "\n",
      "Best Loss: 120.30804300308228\n"
     ]
    }
   ],
   "source": [
    "# Full weights with freeze\n",
    "x_epoch = []\n",
    "train_loss_ot = []\n",
    "val_loss_ot = []\n",
    "val_acc_ot = []\n",
    "best_loss = sys.maxsize\n",
    "for epoch in range(1, epochs + 1):\n",
    "    # training phase\n",
    "    train_loss = train(resnet18freeze, device, train_loader, optimizer, epoch, log_interval)\n",
    "    x_epoch.append(epoch)\n",
    "    train_loss_ot.append(train_loss)\n",
    "    \n",
    "    # validation phase\n",
    "    current_loss, accuracy = test(resnet18freeze, device, val_loader, log_interval)\n",
    "    val_loss_ot.append(current_loss)\n",
    "    val_acc_ot.append(accuracy)\n",
    "    if current_loss <= best_loss:\n",
    "        torch.save(resnet18freeze.state_dict(),\"flower102freeze.pt\")\n",
    "        best_loss = current_loss\n",
    "        \n",
    "        \n",
    "print(\"Best Loss: {}\".format(best_loss))"
   ]
  },
  {
   "cell_type": "code",
   "execution_count": 37,
   "metadata": {},
   "outputs": [
    {
     "name": "stdout",
     "output_type": "stream",
     "text": [
      "\n",
      "Performance: Accuracy: 1054/1278 (82.47%), Loss: 953.753873\n",
      "\n"
     ]
    }
   ],
   "source": [
    "resnet18best = models.resnet18(pretrained=False)\n",
    "resnet18best.cuda()\n",
    "resnet18best.load_state_dict(torch.load(\"flower102freeze.pt\", map_location=device))\n",
    "loss = test(resnet18, device, test_loader, log_interval)"
   ]
  },
  {
   "cell_type": "code",
   "execution_count": 38,
   "metadata": {},
   "outputs": [
    {
     "data": {
      "image/png": "[encoded data removed]",
      "text/plain": [
       "<Figure size 432x288 with 1 Axes>"
      ]
     },
     "metadata": {
      "needs_background": "light"
     },
     "output_type": "display_data"
    }
   ],
   "source": [
    "plt.title(\"Train loss over epoch\")\n",
    "plt.xlabel('epoch')\n",
    "plt.ylabel('loss')\n",
    "plt.plot(x_epoch, train_loss_ot)\n",
    "plt.show()"
   ]
  },
  {
   "cell_type": "code",
   "execution_count": 39,
   "metadata": {},
   "outputs": [
    {
     "data": {
      "image/png": "[encoded data removed]",
      "text/plain": [
       "<Figure size 432x288 with 1 Axes>"
      ]
     },
     "metadata": {
      "needs_background": "light"
     },
     "output_type": "display_data"
    }
   ],
   "source": [
    "plt.title(\"Validation loss over epoch\")\n",
    "plt.xlabel('epoch')\n",
    "plt.ylabel('loss')\n",
    "plt.plot(x_epoch, val_loss_ot)\n",
    "plt.show()"
   ]
  },
  {
   "cell_type": "code",
   "execution_count": 40,
   "metadata": {},
   "outputs": [
    {
     "data": {
      "image/png": "[encoded data removed]",
      "text/plain": [
       "<Figure size 432x288 with 1 Axes>"
      ]
     },
     "metadata": {
      "needs_background": "light"
     },
     "output_type": "display_data"
    }
   ],
   "source": [
    "plt.title(\"Validation Accuracy over epoch\")\n",
    "plt.xlabel('epoch')\n",
    "plt.ylabel('accuracy')\n",
    "plt.plot(x_epoch, val_acc_ot)\n",
    "plt.show()"
   ]
  },
  {
   "cell_type": "code",
   "execution_count": null,
   "metadata": {},
   "outputs": [],
   "source": []
  },
  {
   "cell_type": "code",
   "execution_count": null,
   "metadata": {},
   "outputs": [],
   "source": []
  }
 ],
 "metadata": {
  "kernelspec": {
   "display_name": "Python 3",
   "language": "python",
   "name": "python3"
  },
  "language_info": {
   "codemirror_mode": {
    "name": "ipython",
    "version": 3
   },
   "file_extension": ".py",
   "mimetype": "text/x-python",
   "name": "python",
   "nbconvert_exporter": "python",
   "pygments_lexer": "ipython3",
   "version": "3.6.6"
  }
 },
 "nbformat": 4,
 "nbformat_minor": 2
}
